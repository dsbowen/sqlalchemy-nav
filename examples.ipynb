{
 "cells": [
  {
   "cell_type": "markdown",
   "metadata": {},
   "source": [
    "# Examples"
   ]
  },
  {
   "cell_type": "markdown",
   "metadata": {},
   "source": [
    "## Setup with SQLAlchemy"
   ]
  },
  {
   "cell_type": "code",
   "execution_count": 1,
   "metadata": {
    "ExecuteTime": {
     "end_time": "2020-06-10T16:31:32.592737Z",
     "start_time": "2020-06-10T16:31:32.586613Z"
    }
   },
   "outputs": [],
   "source": [
    "# from sqlalchemy_nav import NavbarMixin, NavitemMixin, DropdownitemMixin\n",
    "\n",
    "# from sqlalchemy import create_engine\n",
    "# from sqlalchemy.orm import sessionmaker, scoped_session\n",
    "# from sqlalchemy.ext.declarative import declarative_base\n",
    "\n",
    "# # session creation (standard)\n",
    "# engine = create_engine('sqlite:///:memory:')\n",
    "# session_factory = sessionmaker(bind=engine)\n",
    "# Session = scoped_session(session_factory)\n",
    "# session = Session()\n",
    "# Base = declarative_base()\n",
    "\n",
    "# # use the SQLAlchemy-Nav Mixins to create database models\n",
    "# class Navbar(NavbarMixin, Base):\n",
    "#     __tablename__ = 'navbar'\n",
    "\n",
    "# class Navitem(NavitemMixin, Base):\n",
    "#     __tablename__ = 'navitem'\n",
    "    \n",
    "# class Dropdownitem(DropdownitemMixin, Base):\n",
    "#     __tablename__ = 'dropdownitem'\n",
    "\n",
    "# # create the database (standard)\n",
    "# Base.metadata.create_all(engine)"
   ]
  },
  {
   "cell_type": "markdown",
   "metadata": {},
   "source": [
    "## Setup with Flask-SQLAlchemy"
   ]
  },
  {
   "cell_type": "code",
   "execution_count": 2,
   "metadata": {
    "ExecuteTime": {
     "end_time": "2020-06-10T16:31:33.110713Z",
     "start_time": "2020-06-10T16:31:32.620126Z"
    }
   },
   "outputs": [],
   "source": [
    "from sqlalchemy_nav import NavbarMixin, NavitemMixin, DropdownitemMixin\n",
    "\n",
    "from flask import Flask, Markup, render_template, url_for\n",
    "from flask_sqlalchemy import SQLAlchemy\n",
    "\n",
    "# create session (standard)\n",
    "app = Flask(__name__)\n",
    "app.config['SQLALCHEMY_DATABASE_URI'] = 'sqlite:///:memory:'\n",
    "app.config['SQLALCHEMY_TRACK_MODIFICATIONS'] = False\n",
    "db = SQLAlchemy(app)\n",
    "\n",
    "# use the SQLAlchemy-Nav Mixins to create database models\n",
    "class Navbar(NavbarMixin, db.Model):\n",
    "    pass\n",
    "\n",
    "class Navitem(NavitemMixin, db.Model):\n",
    "    pass\n",
    "\n",
    "class Dropdownitem(DropdownitemMixin, db.Model):\n",
    "    pass\n",
    "\n",
    "# create the database (standard)\n",
    "db.create_all()\n",
    "session = db.session"
   ]
  },
  {
   "cell_type": "markdown",
   "metadata": {},
   "source": [
    "## Basic use"
   ]
  },
  {
   "cell_type": "code",
   "execution_count": 3,
   "metadata": {
    "ExecuteTime": {
     "end_time": "2020-06-10T16:31:33.160603Z",
     "start_time": "2020-06-10T16:31:33.113006Z"
    }
   },
   "outputs": [
    {
     "name": "stdout",
     "output_type": "stream",
     "text": [
      "<nav class=\"navbar navbar-expand-lg navbar-light bg-light fixed-top\">\n",
      " <a class=\"navbar-brand\" href=\"https://my-home-page\">\n",
      "  Home\n",
      " </a>\n",
      " <button aria-controls=\"navbar-1\" aria-expanded=\"false\" aria-label=\"Toggle navigation\" class=\"navbar-toggler\" data-target=\"#navbar-1\" data-toggle=\"collapse\" type=\"button\">\n",
      "  <span class=\"navbar-toggler-icon\">\n",
      "  </span>\n",
      " </button>\n",
      " <div class=\"collapse navbar-collapse\" id=\"navbar-1\">\n",
      "  <ul class=\"navbar-nav mr-auto\">\n",
      "   <li class=\"nav-item\">\n",
      "    <a class=\"nav-link\" href=\"/about\">\n",
      "     About\n",
      "    </a>\n",
      "   </li>\n",
      "   <li class=\"nav-item dropdown\">\n",
      "    <a aria-expanded=\"false\" aria-haspopup=\"true\" class=\"nav-link dropdown-toggle\" data-toggle=\"dropdown\" href=\"\" id=\"navitem-2\" role=\"button\">\n",
      "     Dropdown\n",
      "    </a>\n",
      "    <div aria-labelledby=\"navitem-2\" class=\"dropdown-menu\">\n",
      "     <a class=\"dropdown-item\" href=\"/item0\">\n",
      "      Item0\n",
      "     </a>\n",
      "     <a class=\"dropdown-item\" href=\"/item1\">\n",
      "      Item1\n",
      "     </a>\n",
      "    </div>\n",
      "   </li>\n",
      "  </ul>\n",
      " </div>\n",
      "</nav>\n"
     ]
    }
   ],
   "source": [
    "navbar = Navbar(label='Home', href='https://my-home-page')\n",
    "Navitem(navbar, label='About', href='/about')\n",
    "navitem = Navitem(navbar, dropdown=True, label='Dropdown')\n",
    "Dropdownitem(navitem, label='Item0', href='/item0')\n",
    "Dropdownitem(navitem, label='Item1', href='/item1')\n",
    "session.add(navbar)\n",
    "session.commit()\n",
    "print(navbar.render().prettify())"
   ]
  },
  {
   "cell_type": "markdown",
   "metadata": {},
   "source": [
    "## Customization"
   ]
  },
  {
   "cell_type": "code",
   "execution_count": 4,
   "metadata": {
    "ExecuteTime": {
     "end_time": "2020-06-10T16:31:33.196732Z",
     "start_time": "2020-06-10T16:31:33.164029Z"
    }
   },
   "outputs": [
    {
     "name": "stdout",
     "output_type": "stream",
     "text": [
      "<nav class=\"navbar navbar-expand-lg navbar-light bg-light fixed-top\">\n",
      " <a class=\"navbar-brand\" href=\"https://my-home-page\">\n",
      "  Home\n",
      " </a>\n",
      " <button aria-controls=\"navbar-2\" aria-expanded=\"false\" aria-label=\"Toggle navigation\" class=\"navbar-toggler\" data-target=\"#navbar-2\" data-toggle=\"collapse\" type=\"button\">\n",
      "  <span class=\"navbar-toggler-icon\">\n",
      "  </span>\n",
      " </button>\n",
      " <div class=\"collapse navbar-collapse\" id=\"navbar-2\">\n",
      "  <ul class=\"navbar-nav mr-auto\">\n",
      "  </ul>\n",
      " </div>\n",
      " <form class=\"form-inline\">\n",
      "  <input aria-label=\"Search\" class=\"form-control mr-sm-2\" placeholder=\"Search\" type=\"search\"/>\n",
      "  <button class=\"btn btn-outline-success my-2 my-sm-0\" type=\"submit\">\n",
      "   Search\n",
      "  </button>\n",
      " </form>\n",
      "</nav>\n"
     ]
    }
   ],
   "source": [
    "from bs4 import BeautifulSoup\n",
    "\n",
    "navbar = Navbar(label='Home', href='https://my-home-page')\n",
    "session.add(navbar)\n",
    "session.commit()\n",
    "\n",
    "searchbar_html = '''\n",
    "<form class=\"form-inline\">\n",
    "    <input class=\"form-control mr-sm-2\" type=\"search\" placeholder=\"Search\" aria-label=\"Search\">\n",
    "    <button class=\"btn btn-outline-success my-2 my-sm-0\" type=\"submit\">Search</button>\n",
    "</form>\n",
    "'''\n",
    "searchbar = BeautifulSoup(searchbar_html, 'html.parser')\n",
    "navbar.body.select_one('nav').append(searchbar)\n",
    "navbar.body.changed()\n",
    "print(navbar.render().prettify())"
   ]
  },
  {
   "cell_type": "code",
   "execution_count": null,
   "metadata": {},
   "outputs": [],
   "source": []
  }
 ],
 "metadata": {
  "kernelspec": {
   "display_name": "Python 3",
   "language": "python",
   "name": "python3"
  },
  "language_info": {
   "codemirror_mode": {
    "name": "ipython",
    "version": 3
   },
   "file_extension": ".py",
   "mimetype": "text/x-python",
   "name": "python",
   "nbconvert_exporter": "python",
   "pygments_lexer": "ipython3",
   "version": "3.6.8"
  },
  "toc": {
   "base_numbering": 1,
   "nav_menu": {},
   "number_sections": true,
   "sideBar": true,
   "skip_h1_title": false,
   "title_cell": "Table of Contents",
   "title_sidebar": "Contents",
   "toc_cell": false,
   "toc_position": {},
   "toc_section_display": true,
   "toc_window_display": false
  },
  "varInspector": {
   "cols": {
    "lenName": 16,
    "lenType": 16,
    "lenVar": 40
   },
   "kernels_config": {
    "python": {
     "delete_cmd_postfix": "",
     "delete_cmd_prefix": "del ",
     "library": "var_list.py",
     "varRefreshCmd": "print(var_dic_list())"
    },
    "r": {
     "delete_cmd_postfix": ") ",
     "delete_cmd_prefix": "rm(",
     "library": "var_list.r",
     "varRefreshCmd": "cat(var_dic_list()) "
    }
   },
   "types_to_exclude": [
    "module",
    "function",
    "builtin_function_or_method",
    "instance",
    "_Feature"
   ],
   "window_display": false
  }
 },
 "nbformat": 4,
 "nbformat_minor": 4
}
